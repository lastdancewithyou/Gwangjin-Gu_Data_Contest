{
 "cells": [
  {
   "cell_type": "code",
   "execution_count": 1,
   "metadata": {},
   "outputs": [],
   "source": [
    "import pandas as pd\n",
    "from xgboost import XGBRegressor\n",
    "from lightgbm import LGBMRegressor\n",
    "from sklearn.ensemble import RandomForestRegressor\n",
    "from sklearn.linear_model import LinearRegression\n",
    "from sklearn.neural_network import MLPRegressor\n",
    "from sklearn.metrics import mean_squared_error\n",
    "from sklearn.model_selection import cross_val_score, GridSearchCV"
   ]
  },
  {
   "cell_type": "code",
   "execution_count": 2,
   "metadata": {},
   "outputs": [],
   "source": [
    "id_list = [1040012100,1040012000,1040011100, 1040011000,1040010100,1040010000,1040009100,1040009000]"
   ]
  },
  {
   "cell_type": "code",
   "execution_count": 35,
   "metadata": {},
   "outputs": [],
   "source": [
    "#def get_avg_rmse_cv(models):\n",
    "#    \n",
    "#    for model in models:\n",
    "#        rmse_list = np.sqrt(-cross_val_score(model, X, y, scoring= \"neg_mean_squared_error\", cv = 5))\n",
    "#        rmse_avg = np.mean(rmse_list)\n",
    "#        print('\\n{0} CV RMSE list: {1}'.format(model.__class__.__name__, np.round(rmse_list,3)))\n",
    "#        print('\\n{0} CV 평균 RMSE: {1}'.format(model.__class__.__name__, rmse_avg))\n"
   ]
  },
  {
   "cell_type": "code",
   "execution_count": 37,
   "metadata": {},
   "outputs": [],
   "source": [
    "model_xgb = XGBRegressor(random_state = 0)\n",
    "model_lgbm = LGBMRegressor(random_state = 0)\n",
    "model_rf = RandomForestRegressor(random_state = 0)\n",
    "model_mlp = MLPRegressor(activation = 'relu', hidden_layer_sizes = (32,64,32), max_iter = 1000)\n",
    "model_lr = LinearRegression()"
   ]
  },
  {
   "cell_type": "code",
   "execution_count": 45,
   "metadata": {},
   "outputs": [],
   "source": [
    "# 하이퍼 파라미터 설정\n",
    "xgb_parameters = {'n_estimators': [50,100,200], 'max_depth': [3,5,7],'learning_rate':[0.01, 0.1]}\n",
    "lgbm_parameters = {'n_estimators': [50,100], 'learning_rate': [0.01, 0.1], 'num_leaves' : [20,31]}\n",
    "rf_parameters = {'n_estimators': [50,100,200], 'max_depth':[3,10], 'min_samples_split': [5,10], 'min_samples_leaf':[1,2,4]}\n",
    "mlp_parameters = {'alpha':[0.01,0.1]}\n",
    "lr_parameters = {'fit_intercept': [True]}\n"
   ]
  },
  {
   "cell_type": "code",
   "execution_count": 46,
   "metadata": {},
   "outputs": [],
   "source": [
    "def grid_best(model, params):\n",
    "    grid_model = GridSearchCV(model,param_grid = params, scoring = 'neg_mean_squared_error', cv = 5)\n",
    "    grid_model.fit(X, y)\n",
    "    rmse = np.sqrt(-1*grid_model.best_score_)\n",
    "    print('{0} 5 CV시 최적 평균 RMSE 값: {1}, 최적 parameter:{2}'.format(model.__class__.__name__, rmse, grid_model.best_params_))"
   ]
  },
  {
   "cell_type": "markdown",
   "metadata": {},
   "source": [
    "### 1040009100"
   ]
  },
  {
   "cell_type": "code",
   "execution_count": 47,
   "metadata": {},
   "outputs": [],
   "source": [
    "df = pd.read_csv(\"final_1040009100.csv\",encoding = \"cp949\", index_col = 0)\n",
    "y = df['value']\n",
    "X = df.drop(['value','time'], axis = 1)"
   ]
  },
  {
   "cell_type": "code",
   "execution_count": 48,
   "metadata": {
    "scrolled": true
   },
   "outputs": [
    {
     "name": "stdout",
     "output_type": "stream",
     "text": [
      "XGBRegressor 5 CV시 최적 평균 RMSE 값: 1.9906228532320254, 최적 parameter:{'learning_rate': 0.1, 'max_depth': 5, 'n_estimators': 50}\n",
      "LGBMRegressor 5 CV시 최적 평균 RMSE 값: 1.9804086645101135, 최적 parameter:{'learning_rate': 0.1, 'n_estimators': 50, 'num_leaves': 20}\n",
      "RandomForestRegressor 5 CV시 최적 평균 RMSE 값: 1.985547793845145, 최적 parameter:{'max_depth': 10, 'min_samples_leaf': 4, 'min_samples_split': 10, 'n_estimators': 200}\n",
      "MLPRegressor 5 CV시 최적 평균 RMSE 값: 5.239766794214859, 최적 parameter:{'alpha': 0.1}\n",
      "LinearRegression 5 CV시 최적 평균 RMSE 값: 2.1640046712430117, 최적 parameter:{'fit_intercept': True}\n"
     ]
    }
   ],
   "source": [
    "grid_best(model_xgb, xgb_parameters)\n",
    "grid_best(model_lgbm, lgbm_parameters)\n",
    "grid_best(model_rf, rf_parameters)\n",
    "grid_best(model_mlp, mlp_parameters)\n",
    "grid_best(model_lr, lr_parameters)"
   ]
  },
  {
   "cell_type": "markdown",
   "metadata": {},
   "source": [
    "### 1040009000"
   ]
  },
  {
   "cell_type": "code",
   "execution_count": 49,
   "metadata": {},
   "outputs": [],
   "source": [
    "df = pd.read_csv(\"final_1040009000.csv\",encoding = \"cp949\", index_col = 0)\n",
    "y = df['value']\n",
    "X = df.drop(['value','time'], axis = 1)"
   ]
  },
  {
   "cell_type": "code",
   "execution_count": 50,
   "metadata": {
    "scrolled": true
   },
   "outputs": [
    {
     "name": "stdout",
     "output_type": "stream",
     "text": [
      "XGBRegressor 5 CV시 최적 평균 RMSE 값: 2.315407972296758, 최적 parameter:{'learning_rate': 0.1, 'max_depth': 3, 'n_estimators': 100}\n",
      "LGBMRegressor 5 CV시 최적 평균 RMSE 값: 2.31288445968422, 최적 parameter:{'learning_rate': 0.1, 'n_estimators': 50, 'num_leaves': 20}\n",
      "RandomForestRegressor 5 CV시 최적 평균 RMSE 값: 2.284946979879345, 최적 parameter:{'max_depth': 10, 'min_samples_leaf': 4, 'min_samples_split': 10, 'n_estimators': 200}\n",
      "MLPRegressor 5 CV시 최적 평균 RMSE 값: 5.781579605147722, 최적 parameter:{'alpha': 0.1}\n",
      "LinearRegression 5 CV시 최적 평균 RMSE 값: 2.351836913745054, 최적 parameter:{'fit_intercept': True}\n"
     ]
    }
   ],
   "source": [
    "grid_best(model_xgb, xgb_parameters)\n",
    "grid_best(model_lgbm, lgbm_parameters)\n",
    "grid_best(model_rf, rf_parameters)\n",
    "grid_best(model_mlp, mlp_parameters)\n",
    "grid_best(model_lr, lr_parameters)"
   ]
  },
  {
   "cell_type": "code",
   "execution_count": null,
   "metadata": {},
   "outputs": [],
   "source": []
  }
 ],
 "metadata": {
  "kernelspec": {
   "display_name": "Python 3",
   "language": "python",
   "name": "python3"
  },
  "language_info": {
   "codemirror_mode": {
    "name": "ipython",
    "version": 3
   },
   "file_extension": ".py",
   "mimetype": "text/x-python",
   "name": "python",
   "nbconvert_exporter": "python",
   "pygments_lexer": "ipython3",
   "version": "3.8.5"
  },
  "toc": {
   "base_numbering": 1,
   "nav_menu": {},
   "number_sections": true,
   "sideBar": true,
   "skip_h1_title": false,
   "title_cell": "Table of Contents",
   "title_sidebar": "Contents",
   "toc_cell": false,
   "toc_position": {},
   "toc_section_display": true,
   "toc_window_display": false
  },
  "varInspector": {
   "cols": {
    "lenName": 16,
    "lenType": 16,
    "lenVar": 40
   },
   "kernels_config": {
    "python": {
     "delete_cmd_postfix": "",
     "delete_cmd_prefix": "del ",
     "library": "var_list.py",
     "varRefreshCmd": "print(var_dic_list())"
    },
    "r": {
     "delete_cmd_postfix": ") ",
     "delete_cmd_prefix": "rm(",
     "library": "var_list.r",
     "varRefreshCmd": "cat(var_dic_list()) "
    }
   },
   "types_to_exclude": [
    "module",
    "function",
    "builtin_function_or_method",
    "instance",
    "_Feature"
   ],
   "window_display": false
  }
 },
 "nbformat": 4,
 "nbformat_minor": 4
}
