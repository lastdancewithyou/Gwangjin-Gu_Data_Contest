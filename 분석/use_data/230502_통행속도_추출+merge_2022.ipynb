{
  "cells": [
    {
      "cell_type": "code",
      "source": [
        "from google.colab import drive\n",
        "drive.mount('/content/drive')"
      ],
      "metadata": {
        "colab": {
          "base_uri": "https://localhost:8080/"
        },
        "id": "q3k5QjFrZG0c",
        "outputId": "56d4f126-4fde-42f2-a311-fdf68645015d"
      },
      "execution_count": 1,
      "outputs": [
        {
          "output_type": "stream",
          "name": "stdout",
          "text": [
            "Mounted at /content/drive\n"
          ]
        }
      ]
    },
    {
      "cell_type": "code",
      "source": [
        "import os\n",
        "import pandas as pd\n",
        "\n",
        "os.chdir(\"/content/drive/MyDrive/교통속도_origin_data\")"
      ],
      "metadata": {
        "id": "mkAJoT_yNt55"
      },
      "execution_count": 2,
      "outputs": []
    },
    {
      "cell_type": "code",
      "source": [
        "id_list = [1040012100,1040012000,1040011100, 1040011000,1040010100,1040010000,1040009100,1040009000]"
      ],
      "metadata": {
        "id": "n_Uav_l8NaeR"
      },
      "execution_count": 4,
      "outputs": []
    },
    {
      "cell_type": "code",
      "source": [
        "import pandas as pd\n",
        "df = pd.DataFrame()\n",
        "\n",
        "for i in range(1,13):\n",
        "    df = df.append(pd.read_excel('2022년 '+str(i)+'월 서울시 차량통행속도.xlsx'))"
      ],
      "metadata": {
        "colab": {
          "base_uri": "https://localhost:8080/"
        },
        "id": "vphhxhyec-_Y",
        "outputId": "2f367e26-d921-4624-b28b-dcac4bf9c1d1"
      },
      "execution_count": 8,
      "outputs": [
        {
          "output_type": "stream",
          "name": "stderr",
          "text": [
            "<ipython-input-8-7b0b6d8b9c7f>:5: FutureWarning: The frame.append method is deprecated and will be removed from pandas in a future version. Use pandas.concat instead.\n",
            "  df = df.append(pd.read_excel('2022년 '+str(i)+'월 서울시 차량통행속도.xlsx'))\n",
            "<ipython-input-8-7b0b6d8b9c7f>:5: FutureWarning: The frame.append method is deprecated and will be removed from pandas in a future version. Use pandas.concat instead.\n",
            "  df = df.append(pd.read_excel('2022년 '+str(i)+'월 서울시 차량통행속도.xlsx'))\n",
            "<ipython-input-8-7b0b6d8b9c7f>:5: FutureWarning: The frame.append method is deprecated and will be removed from pandas in a future version. Use pandas.concat instead.\n",
            "  df = df.append(pd.read_excel('2022년 '+str(i)+'월 서울시 차량통행속도.xlsx'))\n",
            "<ipython-input-8-7b0b6d8b9c7f>:5: FutureWarning: The frame.append method is deprecated and will be removed from pandas in a future version. Use pandas.concat instead.\n",
            "  df = df.append(pd.read_excel('2022년 '+str(i)+'월 서울시 차량통행속도.xlsx'))\n",
            "<ipython-input-8-7b0b6d8b9c7f>:5: FutureWarning: The frame.append method is deprecated and will be removed from pandas in a future version. Use pandas.concat instead.\n",
            "  df = df.append(pd.read_excel('2022년 '+str(i)+'월 서울시 차량통행속도.xlsx'))\n",
            "<ipython-input-8-7b0b6d8b9c7f>:5: FutureWarning: The frame.append method is deprecated and will be removed from pandas in a future version. Use pandas.concat instead.\n",
            "  df = df.append(pd.read_excel('2022년 '+str(i)+'월 서울시 차량통행속도.xlsx'))\n",
            "<ipython-input-8-7b0b6d8b9c7f>:5: FutureWarning: The frame.append method is deprecated and will be removed from pandas in a future version. Use pandas.concat instead.\n",
            "  df = df.append(pd.read_excel('2022년 '+str(i)+'월 서울시 차량통행속도.xlsx'))\n",
            "<ipython-input-8-7b0b6d8b9c7f>:5: FutureWarning: The frame.append method is deprecated and will be removed from pandas in a future version. Use pandas.concat instead.\n",
            "  df = df.append(pd.read_excel('2022년 '+str(i)+'월 서울시 차량통행속도.xlsx'))\n",
            "<ipython-input-8-7b0b6d8b9c7f>:5: FutureWarning: The frame.append method is deprecated and will be removed from pandas in a future version. Use pandas.concat instead.\n",
            "  df = df.append(pd.read_excel('2022년 '+str(i)+'월 서울시 차량통행속도.xlsx'))\n",
            "<ipython-input-8-7b0b6d8b9c7f>:5: FutureWarning: The frame.append method is deprecated and will be removed from pandas in a future version. Use pandas.concat instead.\n",
            "  df = df.append(pd.read_excel('2022년 '+str(i)+'월 서울시 차량통행속도.xlsx'))\n",
            "<ipython-input-8-7b0b6d8b9c7f>:5: FutureWarning: The frame.append method is deprecated and will be removed from pandas in a future version. Use pandas.concat instead.\n",
            "  df = df.append(pd.read_excel('2022년 '+str(i)+'월 서울시 차량통행속도.xlsx'))\n",
            "<ipython-input-8-7b0b6d8b9c7f>:5: FutureWarning: The frame.append method is deprecated and will be removed from pandas in a future version. Use pandas.concat instead.\n",
            "  df = df.append(pd.read_excel('2022년 '+str(i)+'월 서울시 차량통행속도.xlsx'))\n"
          ]
        }
      ]
    },
    {
      "cell_type": "code",
      "source": [
        "df = df.loc[df['링크아이디'].isin(id_list)]"
      ],
      "metadata": {
        "id": "9eFMawtuBCDP"
      },
      "execution_count": 9,
      "outputs": []
    },
    {
      "cell_type": "code",
      "source": [
        "df.to_csv(\"final_통행속도_2022.csv\", encoding = \"cp949\")"
      ],
      "metadata": {
        "id": "BETVESt8_Ta9"
      },
      "execution_count": 10,
      "outputs": []
    },
    {
      "cell_type": "code",
      "source": [
        "for i in id_list:\n",
        "    a = df[df['링크아이디']==i]\n",
        "    a = a.set_index(\"일자\").drop(['요일','도로명','기능유형구분','차선수','거리','도심/외곽구분','권역구분','시점명','종점명'], axis = 1)\n",
        "    a = a.drop([], axis =1)\n",
        "    a = a.reset_index()\n",
        "    a = pd.melt(a, id_vars=['링크아이디','방향','일자'])\n",
        "    a['time'] = a['일자'].map(str) + \"\" + a.variable.str.rstrip(\"시\")\n",
        "    a = a.set_index([\"time\"]).drop(['일자','variable'], axis = 1)\n",
        "    a.to_csv(str(i)+\"통행속도_2022.csv\", encoding = \"cp949\")"
      ],
      "metadata": {
        "id": "rcm6kZyyd8o3"
      },
      "execution_count": 13,
      "outputs": []
    },
    {
      "cell_type": "code",
      "source": [
        "df = pd.read_csv(\"통행량_2022.csv\", encoding = \"cp949\")\n",
        "df['time'] = pd.to_datetime(df['time'])"
      ],
      "metadata": {
        "id": "gGUwFnsi-ziR"
      },
      "execution_count": 14,
      "outputs": []
    },
    {
      "cell_type": "code",
      "source": [
        "# 24시를 00시로 바꾸기\n",
        "from datetime import datetime, timedelta\n",
        "\n",
        "def zerofrom24(datetime, _format):\n",
        "    datetime = str(datetime)\n",
        "    try:\n",
        "        return pd.to_datetime(datetime, format = _format)\n",
        "    except:\n",
        "        datetime = datetime[:-2] + '00'\n",
        "        return pd.to_datetime(datetime, format = _format)+ timedelta(days=1)\n"
      ],
      "metadata": {
        "id": "4-K6C_7Z-zd-"
      },
      "execution_count": 15,
      "outputs": []
    },
    {
      "cell_type": "code",
      "source": [
        "for i in id_list:\n",
        "  s = pd.read_csv(str(i)+\"통행속도_2022.csv\", encoding = \"cp949\")\n",
        "  s.time = s.time.map(lambda x : zerofrom24(x,'%Y%m%d%H'))\n",
        "  s = s.set_index([\"time\"])\n",
        "  mm = pd.merge(df, s, on = \"time\").drop([\"링크아이디\", \"방향\"], axis = 1)\n",
        "  no_mm = mm.dropna(axis = 0) # 결측치 있는 행 전부 삭제\n",
        "  no_mm.to_csv(\"final_\"+str(i)+\".csv\", encoding = \"cp949\")"
      ],
      "metadata": {
        "id": "x_uH3IcF-zbk"
      },
      "execution_count": 16,
      "outputs": []
    },
    {
      "cell_type": "code",
      "source": [],
      "metadata": {
        "id": "bOOLngZH-zUS"
      },
      "execution_count": null,
      "outputs": []
    }
  ],
  "metadata": {
    "colab": {
      "provenance": []
    },
    "kernelspec": {
      "display_name": "Python 3",
      "name": "python3"
    },
    "language_info": {
      "name": "python"
    }
  },
  "nbformat": 4,
  "nbformat_minor": 0
}